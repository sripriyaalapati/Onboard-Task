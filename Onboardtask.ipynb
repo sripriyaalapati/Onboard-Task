{
 "cells": [
  {
   "cell_type": "code",
   "execution_count": 2,
   "id": "a618b9a2",
   "metadata": {},
   "outputs": [
    {
     "name": "stdout",
     "output_type": "stream",
     "text": [
      "            Movie   Price\n",
      "0        Avengers  $10.99\n",
      "1  Jurrasic World   20.99\n",
      "2    Harry Potter  $15.99\n",
      "3          Matrix  $13.99\n"
     ]
    }
   ],
   "source": [
    "import pandas as pd\n",
    "\n",
    "data = {'Movie': ['Avengers','Jurrasic World','Harry Potter','Matrix'],\n",
    "        'Price': ['$10.99','20.99','$15.99','$13.99']\n",
    "        }\n",
    "\n",
    "df = pd.DataFrame(data, columns= ['Movie', 'Price'])\n",
    "df.to_csv(r'C:\\Users\\Priya Alapati\\Desktop\\export_dataframce.csv', index = False, header = True)\n",
    "print (df)\n"
   ]
  },
  {
   "cell_type": "code",
   "execution_count": null,
   "id": "c07dc876",
   "metadata": {},
   "outputs": [],
   "source": []
  }
 ],
 "metadata": {
  "kernelspec": {
   "display_name": "Python 3",
   "language": "python",
   "name": "python3"
  },
  "language_info": {
   "codemirror_mode": {
    "name": "ipython",
    "version": 3
   },
   "file_extension": ".py",
   "mimetype": "text/x-python",
   "name": "python",
   "nbconvert_exporter": "python",
   "pygments_lexer": "ipython3",
   "version": "3.8.8"
  }
 },
 "nbformat": 4,
 "nbformat_minor": 5
}
